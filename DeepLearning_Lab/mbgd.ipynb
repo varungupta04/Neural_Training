{
 "cells": [
  {
   "cell_type": "markdown",
   "metadata": {},
   "source": [
    "For this DA I will study and test it the mini batch gradient descent in order to take adventage of the parallel computation in the optimization process.\n",
    "First we will study a single thread approach and finally we will implement by means of threads a parallel computation of the algorithm"
   ]
  },
  {
   "cell_type": "code",
   "execution_count": 2,
   "metadata": {
    "collapsed": true
   },
   "outputs": [],
   "source": [
    "%matplotlib inline  \n",
    "from numpy import *\n",
    "from mpl_toolkits.mplot3d import Axes3D\n",
    "from matplotlib import cm\n",
    "import matplotlib.pyplot as plt"
   ]
  },
  {
   "cell_type": "code",
   "execution_count": 3,
   "metadata": {
    "collapsed": true
   },
   "outputs": [],
   "source": [
    "def E(m,b):\n",
    "    # cost function \n",
    "    global points\n",
    "    N = float(len(points))\n",
    "    error = 0\n",
    "    for point in points:\n",
    "        error += (point[0]-(m*point[1] + b)) ** 2\n",
    "    return error / N"
   ]
  },
  {
   "cell_type": "code",
   "execution_count": 4,
   "metadata": {
    "collapsed": true
   },
   "outputs": [],
   "source": [
    "points = genfromtxt(\"data.csv\", delimiter=\",\")\n",
    "data_X = [p[0] for p in points]\n",
    "data_Y = [p[1] for p in points]\n",
    "\n",
    "# data is also in the same git-folder in varungupta04 account"
   ]
  },
  {
   "cell_type": "code",
   "execution_count": 5,
   "metadata": {
    "collapsed": true
   },
   "outputs": [],
   "source": [
    "def step_gradient(m,b,points, alpha = 0.00005):\n",
    "    # Calculate the drop of each parameter in the function (m,b)\n",
    "    # by means of the derivate functions\n",
    "\n",
    "    N = float(len(points))\n",
    "    m_descend = 0.0\n",
    "    b_descend = 0.0\n",
    "    for point in points:\n",
    "        m_descend += -(2/N) * point[0]*(point[1]-((m*point[0]) + b))\n",
    "        b_descend += -(2/N) * (point[1]-((m*point[0]) + b))\n",
    "    m_descend = m - (m_descend * alpha) \n",
    "    b_descend = b - (b_descend * alpha)\n",
    "    return (m_descend, b_descend)"
   ]
  },
  {
   "cell_type": "code",
   "execution_count": 6,
   "metadata": {
    "collapsed": false
   },
   "outputs": [
    {
     "name": "stdout",
     "output_type": "stream",
     "text": [
      "m:1.316, b:0.065\n"
     ]
    }
   ],
   "source": [
    "precision = 0.00001\n",
    "batch_size = 10\n",
    "m_old = -2\n",
    "b_old = 0\n",
    "\n",
    "points_batch = []\n",
    "for i in xrange(0, len(points), batch_size):\n",
    "    points_batch.append(points[i:i+batch_size])\n",
    "\n",
    "parameter_its = [(m_old, b_old)]\n",
    "for batch in points_batch:\n",
    "    m_new,b_new = step_gradient(m_old, b_old, batch)\n",
    "    parameter_its.append((m_new,b_new))\n",
    "    if (abs(m_old-m_new)) < precision:\n",
    "        print(\" (%s it), no more precission achieved\" % iteration)\n",
    "        break\n",
    "    m_old = m_new\n",
    "    b_old = b_new\n",
    "print(\"m:%s, b:%s\" % (round(m_new,3), round(b_new, 3)))"
   ]
  },
  {
   "cell_type": "code",
   "execution_count": 49,
   "metadata": {
    "collapsed": false
   },
   "outputs": [
    {
     "data": {
      "image/png": "[encoded data removed]",
      "text/plain": [
       "<matplotlib.figure.Figure at 0x1060d8c10>"
      ]
     },
     "metadata": {},
     "output_type": "display_data"
    }
   ],
   "source": [
    "def plot_points_and_modelfit(m,b,toFile=False,iteration=0):\n",
    "    \"\"\"\n",
    "    \"\"\"\n",
    "    ablineValues = []\n",
    "    for x in data_X:\n",
    "        ablineValues.append(m*x+b)\n",
    "\n",
    "    plt.scatter(data_X,data_Y)\n",
    "    plt.plot(data_X, ablineValues, 'b')\n",
    "    plt.title(\"y=%s*x+%s\" % (round(m_new,4),round(b_new,4)))\n",
    "    if toFile:\n",
    "        plt.savefig('/tmp/tmp_%s.png' % iteration, bbox_inches='tight')\n",
    "    else:\n",
    "        plt.show()\n",
    "\n",
    "for parameter in parameter_its:\n",
    "    plot_points_and_modelfit(parameter[0],parameter[1], True)"
   ]
  },
  {
   "cell_type": "code",
   "execution_count": null,
   "metadata": {
    "collapsed": true
   },
   "outputs": [],
   "source": []
  }
 ],
 "metadata": {
  "kernelspec": {
   "display_name": "Python 2",
   "language": "python",
   "name": "python2"
  },
  "language_info": {
   "codemirror_mode": {
    "name": "ipython",
    "version": 2
   },
   "file_extension": ".py",
   "mimetype": "text/x-python",
   "name": "python",
   "nbconvert_exporter": "python",
   "pygments_lexer": "ipython2",
   "version": "2.7.10"
  }
 },
 "nbformat": 4,
 "nbformat_minor": 0
}
